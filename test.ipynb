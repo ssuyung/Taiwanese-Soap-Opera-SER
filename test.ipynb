{
  "cells": [
    {
      "cell_type": "code",
      "execution_count": null,
      "metadata": {
        "colab": {
          "base_uri": "https://localhost:8080/"
        },
        "id": "w-AN4oHKVAKy",
        "outputId": "c08cc977-ae49-4d74-b873-c895287e7fe9"
      },
      "outputs": [
        {
          "output_type": "stream",
          "name": "stdout",
          "text": [
            "Mounted at /content/drive\n"
          ]
        }
      ],
      "source": [
        "from google.colab import drive\n",
        "drive.mount('/content/drive')"
      ]
    },
    {
      "cell_type": "code",
      "execution_count": null,
      "metadata": {
        "id": "GoFpK5ldu7pG"
      },
      "outputs": [],
      "source": [
        "import os\n",
        "import sys\n",
        "import pandas as pd\n",
        "import numpy as np\n",
        "import matplotlib.pyplot as plt\n",
        "import librosa\n",
        "import librosa.display\n",
        "import tensorflow as tf\n",
        "from tensorflow.keras import layers, models\n",
        "from IPython.display import Audio\n",
        "from sklearn.model_selection import train_test_split"
      ]
    },
    {
      "cell_type": "code",
      "execution_count": null,
      "metadata": {
        "colab": {
          "base_uri": "https://localhost:8080/"
        },
        "id": "U3KR2ZEdts0y",
        "outputId": "d1a6b71d-1ea1-49d6-f33e-a49ae4d2b49d"
      },
      "outputs": [
        {
          "output_type": "stream",
          "name": "stdout",
          "text": [
            "(600, 132300)\n"
          ]
        }
      ],
      "source": [
        "os.chdir(\"/content/drive/MyDrive/ML/final/\")\n",
        "PATH = 'TaiwanTornado'\n",
        "file_dir = os.listdir(PATH)\n",
        "file_dir.sort()\n",
        "\n",
        "training_samples = len(file_dir)\n",
        "X_train = np.zeros([training_samples, 132300])\n",
        "for idx, filename in enumerate(file_dir):\n",
        "  audio, sr = librosa.load(os.path.join(PATH, filename), sr = 44100, duration = 3)\n",
        "  audio = librosa.util.fix_length(audio, size=132300)\n",
        "  # S_full, phase = librosa.magphase(librosa.stft(audio))\n",
        "  # S_filter = librosa.decompose.nn_filter(S_full,aggregate=np.median,metric='cosine',width=int(librosa.time_to_frames(3, sr=sr)))\n",
        "  # S_filter = np.minimum(S_full, S_filter)\n",
        "  # margin_i, margin_v = 2, 10\n",
        "  # power = 2\n",
        "  # mask_i = librosa.util.softmask(S_filter,margin_i * (S_full - S_filter),power=power)\n",
        "  # mask_v = librosa.util.softmask(S_full - S_filter,margin_v * S_filter,power=power)\n",
        "  # audio = mask_v * S_full\n",
        "  # S_background = mask_i * S_full\n",
        "  if audio is not None:\n",
        "      X_train[idx,:] = audio\n",
        "print(X_train.shape)"
      ]
    },
    {
      "cell_type": "code",
      "execution_count": null,
      "metadata": {
        "id": "ca9r9MVMgn6B"
      },
      "outputs": [],
      "source": [
        "X_train = X_train[:500]"
      ]
    },
    {
      "cell_type": "code",
      "execution_count": null,
      "metadata": {
        "colab": {
          "base_uri": "https://localhost:8080/",
          "height": 441
        },
        "id": "QdSnC0BMVh4t",
        "outputId": "6df0ebaf-6669-45c4-ea5e-021f53cdedaf"
      },
      "outputs": [
        {
          "output_type": "stream",
          "name": "stdout",
          "text": [
            "(600, 5) [0. 1.]\n"
          ]
        },
        {
          "output_type": "execute_result",
          "data": {
            "text/plain": [
              "     0\n",
              "0    0\n",
              "1    1\n",
              "2    4\n",
              "3    1\n",
              "4    4\n",
              "..  ..\n",
              "595  0\n",
              "596  2\n",
              "597  2\n",
              "598  0\n",
              "599  2\n",
              "\n",
              "[600 rows x 1 columns]"
            ],
            "text/html": [
              "\n",
              "  <div id=\"df-b087b687-6826-420d-889e-2d0aff8f8ec9\">\n",
              "    <div class=\"colab-df-container\">\n",
              "      <div>\n",
              "<style scoped>\n",
              "    .dataframe tbody tr th:only-of-type {\n",
              "        vertical-align: middle;\n",
              "    }\n",
              "\n",
              "    .dataframe tbody tr th {\n",
              "        vertical-align: top;\n",
              "    }\n",
              "\n",
              "    .dataframe thead th {\n",
              "        text-align: right;\n",
              "    }\n",
              "</style>\n",
              "<table border=\"1\" class=\"dataframe\">\n",
              "  <thead>\n",
              "    <tr style=\"text-align: right;\">\n",
              "      <th></th>\n",
              "      <th>0</th>\n",
              "    </tr>\n",
              "  </thead>\n",
              "  <tbody>\n",
              "    <tr>\n",
              "      <th>0</th>\n",
              "      <td>0</td>\n",
              "    </tr>\n",
              "    <tr>\n",
              "      <th>1</th>\n",
              "      <td>1</td>\n",
              "    </tr>\n",
              "    <tr>\n",
              "      <th>2</th>\n",
              "      <td>4</td>\n",
              "    </tr>\n",
              "    <tr>\n",
              "      <th>3</th>\n",
              "      <td>1</td>\n",
              "    </tr>\n",
              "    <tr>\n",
              "      <th>4</th>\n",
              "      <td>4</td>\n",
              "    </tr>\n",
              "    <tr>\n",
              "      <th>...</th>\n",
              "      <td>...</td>\n",
              "    </tr>\n",
              "    <tr>\n",
              "      <th>595</th>\n",
              "      <td>0</td>\n",
              "    </tr>\n",
              "    <tr>\n",
              "      <th>596</th>\n",
              "      <td>2</td>\n",
              "    </tr>\n",
              "    <tr>\n",
              "      <th>597</th>\n",
              "      <td>2</td>\n",
              "    </tr>\n",
              "    <tr>\n",
              "      <th>598</th>\n",
              "      <td>0</td>\n",
              "    </tr>\n",
              "    <tr>\n",
              "      <th>599</th>\n",
              "      <td>2</td>\n",
              "    </tr>\n",
              "  </tbody>\n",
              "</table>\n",
              "<p>600 rows × 1 columns</p>\n",
              "</div>\n",
              "      <button class=\"colab-df-convert\" onclick=\"convertToInteractive('df-b087b687-6826-420d-889e-2d0aff8f8ec9')\"\n",
              "              title=\"Convert this dataframe to an interactive table.\"\n",
              "              style=\"display:none;\">\n",
              "        \n",
              "  <svg xmlns=\"http://www.w3.org/2000/svg\" height=\"24px\"viewBox=\"0 0 24 24\"\n",
              "       width=\"24px\">\n",
              "    <path d=\"M0 0h24v24H0V0z\" fill=\"none\"/>\n",
              "    <path d=\"M18.56 5.44l.94 2.06.94-2.06 2.06-.94-2.06-.94-.94-2.06-.94 2.06-2.06.94zm-11 1L8.5 8.5l.94-2.06 2.06-.94-2.06-.94L8.5 2.5l-.94 2.06-2.06.94zm10 10l.94 2.06.94-2.06 2.06-.94-2.06-.94-.94-2.06-.94 2.06-2.06.94z\"/><path d=\"M17.41 7.96l-1.37-1.37c-.4-.4-.92-.59-1.43-.59-.52 0-1.04.2-1.43.59L10.3 9.45l-7.72 7.72c-.78.78-.78 2.05 0 2.83L4 21.41c.39.39.9.59 1.41.59.51 0 1.02-.2 1.41-.59l7.78-7.78 2.81-2.81c.8-.78.8-2.07 0-2.86zM5.41 20L4 18.59l7.72-7.72 1.47 1.35L5.41 20z\"/>\n",
              "  </svg>\n",
              "      </button>\n",
              "      \n",
              "  <style>\n",
              "    .colab-df-container {\n",
              "      display:flex;\n",
              "      flex-wrap:wrap;\n",
              "      gap: 12px;\n",
              "    }\n",
              "\n",
              "    .colab-df-convert {\n",
              "      background-color: #E8F0FE;\n",
              "      border: none;\n",
              "      border-radius: 50%;\n",
              "      cursor: pointer;\n",
              "      display: none;\n",
              "      fill: #1967D2;\n",
              "      height: 32px;\n",
              "      padding: 0 0 0 0;\n",
              "      width: 32px;\n",
              "    }\n",
              "\n",
              "    .colab-df-convert:hover {\n",
              "      background-color: #E2EBFA;\n",
              "      box-shadow: 0px 1px 2px rgba(60, 64, 67, 0.3), 0px 1px 3px 1px rgba(60, 64, 67, 0.15);\n",
              "      fill: #174EA6;\n",
              "    }\n",
              "\n",
              "    [theme=dark] .colab-df-convert {\n",
              "      background-color: #3B4455;\n",
              "      fill: #D2E3FC;\n",
              "    }\n",
              "\n",
              "    [theme=dark] .colab-df-convert:hover {\n",
              "      background-color: #434B5C;\n",
              "      box-shadow: 0px 1px 3px 1px rgba(0, 0, 0, 0.15);\n",
              "      filter: drop-shadow(0px 1px 2px rgba(0, 0, 0, 0.3));\n",
              "      fill: #FFFFFF;\n",
              "    }\n",
              "  </style>\n",
              "\n",
              "      <script>\n",
              "        const buttonEl =\n",
              "          document.querySelector('#df-b087b687-6826-420d-889e-2d0aff8f8ec9 button.colab-df-convert');\n",
              "        buttonEl.style.display =\n",
              "          google.colab.kernel.accessAllowed ? 'block' : 'none';\n",
              "\n",
              "        async function convertToInteractive(key) {\n",
              "          const element = document.querySelector('#df-b087b687-6826-420d-889e-2d0aff8f8ec9');\n",
              "          const dataTable =\n",
              "            await google.colab.kernel.invokeFunction('convertToInteractive',\n",
              "                                                     [key], {});\n",
              "          if (!dataTable) return;\n",
              "\n",
              "          const docLinkHtml = 'Like what you see? Visit the ' +\n",
              "            '<a target=\"_blank\" href=https://colab.research.google.com/notebooks/data_table.ipynb>data table notebook</a>'\n",
              "            + ' to learn more about interactive tables.';\n",
              "          element.innerHTML = '';\n",
              "          dataTable['output_type'] = 'display_data';\n",
              "          await google.colab.output.renderOutput(dataTable, element);\n",
              "          const docLink = document.createElement('div');\n",
              "          docLink.innerHTML = docLinkHtml;\n",
              "          element.appendChild(docLink);\n",
              "        }\n",
              "      </script>\n",
              "    </div>\n",
              "  </div>\n",
              "  "
            ]
          },
          "metadata": {},
          "execution_count": 5
        }
      ],
      "source": [
        "# 5 categories\n",
        "data = pd.read_csv(\"final_label_600.csv\", header = None)\n",
        "for i in range(data.shape[0]):\n",
        "  if data.loc[i, 0] == 'fearful':\n",
        "    data.loc[i, 0] = 0\n",
        "  elif data.loc[i, 0] == 'angry':\n",
        "    data.loc[i, 0] = 1\n",
        "  elif data.loc[i, 0] == 'sad':\n",
        "    data.loc[i, 0] = 2\n",
        "  elif data.loc[i, 0] == 'happy':\n",
        "    data.loc[i, 0] = 3\n",
        "  elif data.loc[i, 0] == 'neutral':\n",
        "    data.loc[i, 0] = 4\n",
        "\n",
        "# binary\n",
        "# data = pd.read_csv(\"final_label_binary.csv\", header = None)\n",
        "\n",
        "y_train = data.to_numpy()\n",
        "y_train = tf.keras.utils.to_categorical(y_train)\n",
        "print(y_train.shape, np.unique(y_train))\n",
        "data"
      ]
    },
    {
      "cell_type": "code",
      "execution_count": null,
      "metadata": {
        "id": "FkSHg5Re7MIW"
      },
      "outputs": [],
      "source": [
        "def vocal_separation(audio):\n",
        "  # We'll compare frames using cosine similarity, and aggregate similar frames\n",
        "  # by taking their (per-frequency) median value.\n",
        "  #\n",
        "  # To avoid being biased by local continuity, we constrain similar frames to be\n",
        "  # separated by at least 2 seconds.\n",
        "  #\n",
        "  # This suppresses sparse/non-repetetitive deviations from the average spectrum,\n",
        "  # and works well to discard vocal elements.\n",
        "  S_full, phase = librosa.magphase(librosa.stft(audio))\n",
        "  S_filter = librosa.decompose.nn_filter(S_full,\n",
        "                                        aggregate=np.median,\n",
        "                                        metric='cosine',\n",
        "                                        width=int(librosa.time_to_frames(1, sr=sr)))\n",
        "\n",
        "  # The output of the filter shouldn't be greater than the input\n",
        "  # if we assume signals are additive.  Taking the pointwise minimum\n",
        "  # with the input spectrum forces this.\n",
        "  S_filter = np.minimum(S_full, S_filter)\n",
        "\n",
        "  # We can also use a margin to reduce bleed between the vocals and instrumentation masks.\n",
        "  # Note: the margins need not be equal for foreground and background separation\n",
        "  margin_i, margin_v = 2, 10\n",
        "  power = 2\n",
        "\n",
        "  mask_i = librosa.util.softmask(S_filter,\n",
        "                                margin_i * (S_full - S_filter),\n",
        "                                power=power)\n",
        "\n",
        "  mask_v = librosa.util.softmask(S_full - S_filter,\n",
        "                                margin_v * S_filter,\n",
        "                                power=power)\n",
        "\n",
        "  # Once we have the masks, simply multiply them with the input spectrum\n",
        "  # to separate the components\n",
        "\n",
        "  S_foreground = mask_v * S_full\n",
        "  S_background = mask_i * S_full\n",
        "  y_foreground = librosa.istft(S_foreground * phase)\n",
        "  y_foreground = librosa.util.fix_length(y_foreground, size=132300)\n",
        "  return y_foreground"
      ]
    },
    {
      "cell_type": "code",
      "execution_count": null,
      "metadata": {
        "colab": {
          "base_uri": "https://localhost:8080/"
        },
        "id": "elZQDjRtY11s",
        "outputId": "b08bcc8d-fb49-4457-de04-d292c150c635"
      },
      "outputs": [
        {
          "output_type": "stream",
          "name": "stdout",
          "text": [
            "(480, 132300) (120, 132300) (480, 5) (120, 5)\n"
          ]
        }
      ],
      "source": [
        "X_train, X_val, y_train, y_val = train_test_split(X_train, y_train, test_size=0.2)\n",
        "# X_train_vocal = X_train.copy()\n",
        "# for idx in range(0, len(X_train)):\n",
        "#   X_train[idx] = vocal_separation(X_train[idx])\n",
        "print(X_train.shape, X_val.shape, y_train.shape, y_val.shape)"
      ]
    },
    {
      "cell_type": "code",
      "execution_count": null,
      "metadata": {
        "id": "B2KuUUDmY079"
      },
      "outputs": [],
      "source": [
        "train_data = tf.data.Dataset.from_tensor_slices((X_train, y_train))\n",
        "val_data = tf.data.Dataset.from_tensor_slices((X_val, y_val))"
      ]
    },
    {
      "cell_type": "code",
      "execution_count": null,
      "metadata": {
        "id": "R0pN-xnF0qM-"
      },
      "outputs": [],
      "source": [
        "def get_spectrogram(waveform):\n",
        "  # Convert the waveform to a spectrogram via a STFT.\n",
        "  spectrogram = tf.signal.stft(\n",
        "      waveform, frame_length=512, frame_step=512)\n",
        "  # Obtain the magnitude of the STFT.\n",
        "  spectrogram = tf.abs(spectrogram)\n",
        "  # Add a `channels` dimension, so that the spectrogram can be used\n",
        "  # as image-like input data with convolution layers (which expect\n",
        "  # shape (`batch_size`, `height`, `width`, `channels`).\n",
        "  spectrogram = spectrogram[..., tf.newaxis]\n",
        "  return spectrogram"
      ]
    },
    {
      "cell_type": "code",
      "execution_count": null,
      "metadata": {
        "id": "4Uf5GSo80vck"
      },
      "outputs": [],
      "source": [
        "def make_spec_ds(ds):\n",
        "  return ds.map(\n",
        "      map_func=lambda audio,label: (get_spectrogram(audio), label),\n",
        "      num_parallel_calls=tf.data.AUTOTUNE)"
      ]
    },
    {
      "cell_type": "code",
      "execution_count": null,
      "metadata": {
        "id": "tT6PTkga00Jy"
      },
      "outputs": [],
      "source": [
        "train_ds_spec = make_spec_ds(train_data)\n",
        "val_ds_spec = make_spec_ds(val_data)"
      ]
    },
    {
      "cell_type": "code",
      "execution_count": null,
      "metadata": {
        "id": "TwX6mQKV0E5P"
      },
      "outputs": [],
      "source": [
        "BATCH_SIZE = 8\n",
        "train_ds_spec = train_ds_spec.cache().shuffle(1000).batch(BATCH_SIZE).prefetch(buffer_size = tf.data.AUTOTUNE)\n",
        "val_ds_spec = val_ds_spec.cache().batch(BATCH_SIZE).prefetch(buffer_size = tf.data.AUTOTUNE)"
      ]
    },
    {
      "cell_type": "code",
      "execution_count": null,
      "metadata": {
        "colab": {
          "base_uri": "https://localhost:8080/"
        },
        "id": "-aAKUr431In4",
        "outputId": "94b1c7d8-b94b-4593-e714-76c21152ec7a"
      },
      "outputs": [
        {
          "output_type": "execute_result",
          "data": {
            "text/plain": [
              "(TensorSpec(shape=(None, 258, 257, 1), dtype=tf.float64, name=None),\n",
              " TensorSpec(shape=(None, 5), dtype=tf.float32, name=None))"
            ]
          },
          "metadata": {},
          "execution_count": 82
        }
      ],
      "source": [
        "train_ds_spec.element_spec"
      ]
    },
    {
      "cell_type": "code",
      "execution_count": null,
      "metadata": {
        "colab": {
          "base_uri": "https://localhost:8080/"
        },
        "id": "PXF-E8Bt1MR5",
        "outputId": "ee565d32-d0dc-41fb-883f-ccc40ff0bbab"
      },
      "outputs": [
        {
          "output_type": "stream",
          "name": "stdout",
          "text": [
            "Model: \"sequential\"\n",
            "_________________________________________________________________\n",
            " Layer (type)                Output Shape              Param #   \n",
            "=================================================================\n",
            " normalization (Normalizatio  (None, 258, 257, 1)      3         \n",
            " n)                                                              \n",
            "                                                                 \n",
            " conv2d (Conv2D)             (None, 256, 255, 32)      320       \n",
            "                                                                 \n",
            " batch_normalization (BatchN  (None, 256, 255, 32)     128       \n",
            " ormalization)                                                   \n",
            "                                                                 \n",
            " activation (Activation)     (None, 256, 255, 32)      0         \n",
            "                                                                 \n",
            " max_pooling2d (MaxPooling2D  (None, 128, 127, 32)     0         \n",
            " )                                                               \n",
            "                                                                 \n",
            " conv2d_1 (Conv2D)           (None, 126, 125, 32)      9248      \n",
            "                                                                 \n",
            " batch_normalization_1 (Batc  (None, 126, 125, 32)     128       \n",
            " hNormalization)                                                 \n",
            "                                                                 \n",
            " activation_1 (Activation)   (None, 126, 125, 32)      0         \n",
            "                                                                 \n",
            " max_pooling2d_1 (MaxPooling  (None, 63, 62, 32)       0         \n",
            " 2D)                                                             \n",
            "                                                                 \n",
            " conv2d_2 (Conv2D)           (None, 61, 60, 64)        18496     \n",
            "                                                                 \n",
            " batch_normalization_2 (Batc  (None, 61, 60, 64)       256       \n",
            " hNormalization)                                                 \n",
            "                                                                 \n",
            " activation_2 (Activation)   (None, 61, 60, 64)        0         \n",
            "                                                                 \n",
            " max_pooling2d_2 (MaxPooling  (None, 30, 30, 64)       0         \n",
            " 2D)                                                             \n",
            "                                                                 \n",
            " conv2d_3 (Conv2D)           (None, 28, 28, 64)        36928     \n",
            "                                                                 \n",
            " batch_normalization_3 (Batc  (None, 28, 28, 64)       256       \n",
            " hNormalization)                                                 \n",
            "                                                                 \n",
            " activation_3 (Activation)   (None, 28, 28, 64)        0         \n",
            "                                                                 \n",
            " max_pooling2d_3 (MaxPooling  (None, 14, 14, 64)       0         \n",
            " 2D)                                                             \n",
            "                                                                 \n",
            " time_distributed (TimeDistr  (None, 14, 896)          0         \n",
            " ibuted)                                                         \n",
            "                                                                 \n",
            " lstm (LSTM)                 (None, 256)               1180672   \n",
            "                                                                 \n",
            " dropout (Dropout)           (None, 256)               0         \n",
            "                                                                 \n",
            " dense (Dense)               (None, 5)                 1285      \n",
            "                                                                 \n",
            " batch_normalization_4 (Batc  (None, 5)                20        \n",
            " hNormalization)                                                 \n",
            "                                                                 \n",
            " dropout_1 (Dropout)         (None, 5)                 0         \n",
            "                                                                 \n",
            " activation_4 (Activation)   (None, 5)                 0         \n",
            "                                                                 \n",
            " dense_1 (Dense)             (None, 5)                 30        \n",
            "                                                                 \n",
            "=================================================================\n",
            "Total params: 1,247,770\n",
            "Trainable params: 1,247,373\n",
            "Non-trainable params: 397\n",
            "_________________________________________________________________\n"
          ]
        }
      ],
      "source": [
        "norm_layer = layers.Normalization()\n",
        "# Fit the state of the layer to the spectrograms\n",
        "# with `Normalization.adapt`.\n",
        "norm_layer.adapt(data=train_ds_spec.map(map_func=lambda spec, label: spec))\n",
        "tf.keras.backend.clear_session()\n",
        "model = models.Sequential([\n",
        "    layers.Input(shape=(258,257,1)),\n",
        "    # Downsample the input.\n",
        "    # layers.Resizing(256, 256),\n",
        "    # Normalize.\n",
        "    norm_layer,\n",
        "    layers.Conv2D(32, 3),\n",
        "    layers.BatchNormalization(),\n",
        "    layers.Activation('relu'),\n",
        "    layers.MaxPooling2D(),\n",
        "    layers.Conv2D(32, 3),\n",
        "    layers.BatchNormalization(),\n",
        "    layers.Activation('relu'),\n",
        "    layers.MaxPooling2D(),\n",
        "    layers.Conv2D(64, 3),\n",
        "    layers.BatchNormalization(),\n",
        "    layers.Activation('relu'),\n",
        "    layers.MaxPooling2D(),\n",
        "    layers.Conv2D(64, 3),\n",
        "    layers.BatchNormalization(),\n",
        "    layers.Activation('relu'),\n",
        "    layers.MaxPooling2D(),\n",
        "    # layers.Reshape((-1, 128)),\n",
        "    layers.TimeDistributed(layers.Flatten()),\n",
        "    layers.LSTM(256),\n",
        "    layers.Dropout(0.25),\n",
        "    layers.Dense(5),\n",
        "    layers.BatchNormalization(),\n",
        "    layers.Dropout(0.5),\n",
        "    layers.Activation('relu'),\n",
        "    layers.Dense(5, activation='softmax'),\n",
        "])\n",
        "\n",
        "model.summary()"
      ]
    },
    {
      "cell_type": "code",
      "execution_count": null,
      "metadata": {
        "id": "Z5xSaQD6KLvE"
      },
      "outputs": [],
      "source": [
        "model.load_weights('model.h5')"
      ]
    },
    {
      "cell_type": "code",
      "execution_count": null,
      "metadata": {
        "id": "58WBV8BL2OR_"
      },
      "outputs": [],
      "source": [
        "model.compile(\n",
        "    optimizer=tf.keras.optimizers.Adam(learning_rate=0.0002),\n",
        "    loss=tf.keras.losses.CategoricalCrossentropy(),\n",
        "    metrics=['accuracy'],\n",
        ")"
      ]
    },
    {
      "cell_type": "code",
      "execution_count": null,
      "metadata": {
        "id": "0cce5_QXKEpI"
      },
      "outputs": [],
      "source": [
        "model.save_weights('model.h5')"
      ]
    },
    {
      "cell_type": "code",
      "execution_count": null,
      "metadata": {
        "colab": {
          "base_uri": "https://localhost:8080/",
          "height": 1000
        },
        "id": "hcfCpxwr2T4n",
        "outputId": "e9eed6f8-768b-4def-d3fe-b93ad8294a42"
      },
      "outputs": [
        {
          "output_type": "stream",
          "name": "stdout",
          "text": [
            "Epoch 1/50\n",
            "60/60 [==============================] - 7s 35ms/step - loss: 1.8047 - accuracy: 0.2958 - val_loss: 1.5470 - val_accuracy: 0.3667\n",
            "Epoch 2/50\n",
            "60/60 [==============================] - 1s 25ms/step - loss: 1.7784 - accuracy: 0.2667 - val_loss: 1.5380 - val_accuracy: 0.3250\n",
            "Epoch 3/50\n",
            "60/60 [==============================] - 1s 25ms/step - loss: 1.7444 - accuracy: 0.2479 - val_loss: 1.5147 - val_accuracy: 0.3833\n",
            "Epoch 4/50\n",
            "60/60 [==============================] - 1s 25ms/step - loss: 1.7067 - accuracy: 0.2750 - val_loss: 1.5003 - val_accuracy: 0.4167\n",
            "Epoch 5/50\n",
            "60/60 [==============================] - 1s 25ms/step - loss: 1.6542 - accuracy: 0.2896 - val_loss: 1.4491 - val_accuracy: 0.4583\n",
            "Epoch 6/50\n",
            "60/60 [==============================] - 2s 25ms/step - loss: 1.6608 - accuracy: 0.2979 - val_loss: 1.4696 - val_accuracy: 0.3833\n",
            "Epoch 7/50\n",
            "60/60 [==============================] - 2s 25ms/step - loss: 1.6262 - accuracy: 0.3083 - val_loss: 1.5787 - val_accuracy: 0.4167\n",
            "Epoch 8/50\n",
            "60/60 [==============================] - 2s 25ms/step - loss: 1.5915 - accuracy: 0.3146 - val_loss: 1.5410 - val_accuracy: 0.3833\n",
            "Epoch 9/50\n",
            "60/60 [==============================] - 2s 26ms/step - loss: 1.5916 - accuracy: 0.3021 - val_loss: 1.4682 - val_accuracy: 0.4500\n",
            "Epoch 10/50\n",
            "60/60 [==============================] - 2s 25ms/step - loss: 1.6087 - accuracy: 0.3042 - val_loss: 1.5353 - val_accuracy: 0.3667\n",
            "Epoch 11/50\n",
            "60/60 [==============================] - 2s 25ms/step - loss: 1.5984 - accuracy: 0.3187 - val_loss: 1.5022 - val_accuracy: 0.3167\n",
            "Epoch 12/50\n",
            "60/60 [==============================] - 2s 25ms/step - loss: 1.5508 - accuracy: 0.3271 - val_loss: 1.4190 - val_accuracy: 0.4000\n",
            "Epoch 13/50\n",
            "60/60 [==============================] - 2s 25ms/step - loss: 1.5586 - accuracy: 0.3542 - val_loss: 1.4581 - val_accuracy: 0.4083\n",
            "Epoch 14/50\n",
            "60/60 [==============================] - 2s 25ms/step - loss: 1.4640 - accuracy: 0.3667 - val_loss: 1.5124 - val_accuracy: 0.3333\n",
            "Epoch 15/50\n",
            "60/60 [==============================] - 2s 26ms/step - loss: 1.5140 - accuracy: 0.3458 - val_loss: 1.4224 - val_accuracy: 0.4250\n",
            "Epoch 16/50\n",
            "60/60 [==============================] - 2s 25ms/step - loss: 1.5247 - accuracy: 0.3500 - val_loss: 1.4434 - val_accuracy: 0.3667\n",
            "Epoch 17/50\n",
            "60/60 [==============================] - 2s 25ms/step - loss: 1.4738 - accuracy: 0.4104 - val_loss: 1.4555 - val_accuracy: 0.4000\n",
            "Epoch 18/50\n",
            "60/60 [==============================] - 2s 25ms/step - loss: 1.4635 - accuracy: 0.3708 - val_loss: 1.8128 - val_accuracy: 0.2917\n",
            "Epoch 19/50\n",
            "60/60 [==============================] - 2s 25ms/step - loss: 1.5036 - accuracy: 0.3771 - val_loss: 1.5328 - val_accuracy: 0.4417\n",
            "Epoch 20/50\n",
            "60/60 [==============================] - 2s 25ms/step - loss: 1.4652 - accuracy: 0.4000 - val_loss: 1.3886 - val_accuracy: 0.4167\n",
            "Epoch 21/50\n",
            "60/60 [==============================] - 2s 26ms/step - loss: 1.4209 - accuracy: 0.4271 - val_loss: 1.4053 - val_accuracy: 0.4500\n",
            "Epoch 22/50\n",
            "60/60 [==============================] - 2s 25ms/step - loss: 1.3802 - accuracy: 0.4104 - val_loss: 1.3601 - val_accuracy: 0.4333\n",
            "Epoch 23/50\n",
            "60/60 [==============================] - 2s 26ms/step - loss: 1.4405 - accuracy: 0.3771 - val_loss: 1.6523 - val_accuracy: 0.2417\n",
            "Epoch 24/50\n",
            "60/60 [==============================] - 2s 25ms/step - loss: 1.3769 - accuracy: 0.4167 - val_loss: 1.4260 - val_accuracy: 0.4500\n",
            "Epoch 25/50\n",
            "60/60 [==============================] - 2s 25ms/step - loss: 1.3392 - accuracy: 0.4062 - val_loss: 1.3487 - val_accuracy: 0.4667\n",
            "Epoch 26/50\n",
            "60/60 [==============================] - 2s 26ms/step - loss: 1.3640 - accuracy: 0.4333 - val_loss: 1.3635 - val_accuracy: 0.4750\n",
            "Epoch 27/50\n",
            "60/60 [==============================] - 2s 25ms/step - loss: 1.3949 - accuracy: 0.4042 - val_loss: 1.4027 - val_accuracy: 0.4583\n",
            "Epoch 28/50\n",
            "60/60 [==============================] - 2s 26ms/step - loss: 1.3260 - accuracy: 0.4375 - val_loss: 1.4480 - val_accuracy: 0.4500\n",
            "Epoch 29/50\n",
            "60/60 [==============================] - 2s 25ms/step - loss: 1.3560 - accuracy: 0.4104 - val_loss: 1.6686 - val_accuracy: 0.3000\n",
            "Epoch 30/50\n",
            "60/60 [==============================] - 2s 25ms/step - loss: 1.3108 - accuracy: 0.4187 - val_loss: 1.4782 - val_accuracy: 0.3833\n",
            "Epoch 31/50\n",
            "60/60 [==============================] - 2s 26ms/step - loss: 1.3633 - accuracy: 0.4167 - val_loss: 1.4270 - val_accuracy: 0.4417\n",
            "Epoch 32/50\n",
            "60/60 [==============================] - 2s 25ms/step - loss: 1.2643 - accuracy: 0.4812 - val_loss: 1.4766 - val_accuracy: 0.3417\n",
            "Epoch 33/50\n",
            "60/60 [==============================] - 2s 29ms/step - loss: 1.2745 - accuracy: 0.4708 - val_loss: 1.4624 - val_accuracy: 0.4583\n",
            "Epoch 34/50\n",
            "60/60 [==============================] - 2s 29ms/step - loss: 1.3143 - accuracy: 0.4146 - val_loss: 1.3970 - val_accuracy: 0.4500\n",
            "Epoch 35/50\n",
            "60/60 [==============================] - 2s 26ms/step - loss: 1.2366 - accuracy: 0.4563 - val_loss: 1.4010 - val_accuracy: 0.4583\n",
            "Epoch 36/50\n",
            "60/60 [==============================] - 2s 25ms/step - loss: 1.2280 - accuracy: 0.5063 - val_loss: 1.4476 - val_accuracy: 0.4250\n",
            "Epoch 37/50\n",
            "60/60 [==============================] - 2s 26ms/step - loss: 1.2803 - accuracy: 0.4563 - val_loss: 1.4871 - val_accuracy: 0.4083\n",
            "Epoch 38/50\n",
            "60/60 [==============================] - 2s 25ms/step - loss: 1.2919 - accuracy: 0.4458 - val_loss: 1.5162 - val_accuracy: 0.3000\n",
            "Epoch 39/50\n",
            "60/60 [==============================] - 2s 26ms/step - loss: 1.2123 - accuracy: 0.4896 - val_loss: 1.5441 - val_accuracy: 0.3417\n",
            "Epoch 40/50\n",
            "60/60 [==============================] - 2s 26ms/step - loss: 1.2347 - accuracy: 0.4750 - val_loss: 1.6615 - val_accuracy: 0.3000\n",
            "Epoch 41/50\n",
            "60/60 [==============================] - 2s 26ms/step - loss: 1.2141 - accuracy: 0.4896 - val_loss: 1.5386 - val_accuracy: 0.3833\n",
            "Epoch 42/50\n",
            "60/60 [==============================] - 2s 26ms/step - loss: 1.2141 - accuracy: 0.4771 - val_loss: 1.4103 - val_accuracy: 0.4333\n",
            "Epoch 43/50\n",
            "60/60 [==============================] - 2s 25ms/step - loss: 1.2263 - accuracy: 0.4833 - val_loss: 1.4581 - val_accuracy: 0.4250\n",
            "Epoch 44/50\n",
            "60/60 [==============================] - 2s 25ms/step - loss: 1.1839 - accuracy: 0.4688 - val_loss: 1.4915 - val_accuracy: 0.4083\n",
            "Epoch 45/50\n",
            "60/60 [==============================] - 2s 26ms/step - loss: 1.1806 - accuracy: 0.5083 - val_loss: 1.4567 - val_accuracy: 0.4000\n",
            "Epoch 46/50\n",
            "60/60 [==============================] - 2s 25ms/step - loss: 1.1378 - accuracy: 0.5104 - val_loss: 1.4874 - val_accuracy: 0.4083\n",
            "Epoch 47/50\n",
            "60/60 [==============================] - 2s 25ms/step - loss: 1.1941 - accuracy: 0.4958 - val_loss: 1.5270 - val_accuracy: 0.3583\n",
            "Epoch 48/50\n",
            "60/60 [==============================] - 2s 25ms/step - loss: 1.2198 - accuracy: 0.4812 - val_loss: 1.7999 - val_accuracy: 0.2750\n",
            "Epoch 49/50\n",
            "60/60 [==============================] - 2s 26ms/step - loss: 1.1686 - accuracy: 0.5208 - val_loss: 1.4884 - val_accuracy: 0.4250\n",
            "Epoch 50/50\n",
            "60/60 [==============================] - 2s 26ms/step - loss: 1.1029 - accuracy: 0.5292 - val_loss: 1.5113 - val_accuracy: 0.3750\n"
          ]
        },
        {
          "output_type": "execute_result",
          "data": {
            "text/plain": [
              "Text(0, 0.5, 'Accuracy [%]')"
            ]
          },
          "metadata": {},
          "execution_count": 406
        },
        {
          "output_type": "display_data",
          "data": {
            "text/plain": [
              "<Figure size 1152x432 with 2 Axes>"
            ],
            "image/png": "[encoded data removed]"
          },
          "metadata": {
            "needs_background": "light"
          }
        }
      ],
      "source": [
        "EPOCHS = 50\n",
        "history = model.fit(\n",
        "    train_ds_spec,\n",
        "    validation_data=val_ds_spec,\n",
        "    epochs=EPOCHS,\n",
        "    # callbacks=tf.keras.callbacks.EarlyStopping(verbose=1, patience=2),\n",
        ")\n",
        "\n",
        "metrics = history.history\n",
        "plt.figure(figsize=(16,6))\n",
        "plt.subplot(1,2,1)\n",
        "plt.plot(history.epoch, metrics['loss'], metrics['val_loss'])\n",
        "plt.legend(['loss', 'val_loss'])\n",
        "plt.ylim([0, 2])\n",
        "plt.xlabel('Epoch')\n",
        "plt.ylabel('Loss [CategoricalCrossEntropy]')\n",
        "\n",
        "plt.subplot(1,2,2)\n",
        "plt.plot(history.epoch, 100*np.array(metrics['accuracy']), 100*np.array(metrics['val_accuracy']))\n",
        "plt.legend(['accuracy', 'val_accuracy'])\n",
        "plt.ylim([0, 100])\n",
        "# plt.ylim([50, 100])\n",
        "plt.xlabel('Epoch')\n",
        "plt.ylabel('Accuracy [%]')"
      ]
    },
    {
      "cell_type": "code",
      "source": [
        "metrics = history.history\n",
        "plt.figure(figsize=(16,6))\n",
        "plt.subplot(1,2,1)\n",
        "plt.plot(history.epoch, metrics['loss'], metrics['val_loss'])\n",
        "plt.legend(['loss', 'val_loss'])\n",
        "plt.ylim([0, 2])\n",
        "plt.xlabel('Epoch')\n",
        "plt.ylabel('Loss [CategoricalCrossEntropy]')\n",
        "\n",
        "plt.subplot(1,2,2)\n",
        "plt.plot(history.epoch, 100*np.array(metrics['accuracy']), 100*np.array(metrics['val_accuracy']))\n",
        "plt.legend(['accuracy', 'val_accuracy'])\n",
        "# plt.ylim([0, 100])\n",
        "plt.ylim([0, 60])\n",
        "plt.xlabel('Epoch')\n",
        "plt.ylabel('Accuracy [%]')"
      ],
      "metadata": {
        "colab": {
          "base_uri": "https://localhost:8080/",
          "height": 409
        },
        "id": "rnijo07v2pn2",
        "outputId": "b645cf9e-59bc-43dd-ea36-f376e20d760c"
      },
      "execution_count": null,
      "outputs": [
        {
          "output_type": "execute_result",
          "data": {
            "text/plain": [
              "Text(0, 0.5, 'Accuracy [%]')"
            ]
          },
          "metadata": {},
          "execution_count": 365
        },
        {
          "output_type": "display_data",
          "data": {
            "text/plain": [
              "<Figure size 1152x432 with 2 Axes>"
            ],
            "image/png": "[encoded data removed]"
          },
          "metadata": {
            "needs_background": "light"
          }
        }
      ]
    },
    {
      "cell_type": "code",
      "execution_count": null,
      "metadata": {
        "colab": {
          "base_uri": "https://localhost:8080/"
        },
        "id": "NsNxHzv13z2V",
        "outputId": "add0bfdd-f99e-41b4-bd90-5a9bea0e2d36"
      },
      "outputs": [
        {
          "name": "stdout",
          "output_type": "stream",
          "text": [
            "7/7 [==============================] - 0s 33ms/step\n"
          ]
        },
        {
          "data": {
            "text/plain": [
              "array([1, 4, 1, 2, 1, 4, 1, 4, 2, 3, 3, 1, 0, 1, 3, 4, 2, 2, 1, 0, 2, 1,\n",
              "       0, 3, 0, 3, 1, 0, 1, 1, 2, 0, 1, 1, 1, 1, 4, 4, 3, 0, 4, 4, 4, 4,\n",
              "       4, 3, 3, 3, 2, 1, 0, 4, 1, 2, 0, 1, 0, 0, 3, 1, 0, 0, 0, 4, 1, 1,\n",
              "       2, 1, 2, 0, 2, 1, 4, 0, 2, 2, 2, 1, 1, 2, 1, 1, 0, 4, 3, 0, 2, 2,\n",
              "       0, 4, 2, 3, 1, 1, 0, 4, 1, 2, 2, 1, 0, 0, 4, 1, 0, 2, 2, 1, 2, 0,\n",
              "       1, 4, 3, 1, 1, 1, 1, 2, 4, 2, 1, 4, 4, 1, 2, 1, 4, 1, 3, 1, 2, 2,\n",
              "       2, 3, 0, 1, 3, 1, 3, 0, 1, 4, 4, 0, 4, 2, 2, 1, 2, 2, 2, 3, 3, 3,\n",
              "       2, 1, 3, 1, 0, 1, 2, 0, 1, 4, 2, 2, 3, 2, 4, 2, 4, 2, 2, 2, 0, 1,\n",
              "       2, 2, 0, 0, 0, 0, 4, 0, 0, 4, 2, 0, 4, 2, 0, 1, 4, 3, 2, 1, 0, 2,\n",
              "       4, 1])"
            ]
          },
          "execution_count": 106,
          "metadata": {},
          "output_type": "execute_result"
        }
      ],
      "source": [
        "pre = model.predict(train_ds_spec)\n",
        "np.argmax(pre,axis=1)"
      ]
    }
  ],
  "metadata": {
    "accelerator": "GPU",
    "colab": {
      "provenance": []
    },
    "gpuClass": "standard",
    "kernelspec": {
      "display_name": "Python 3",
      "name": "python3"
    },
    "language_info": {
      "name": "python"
    }
  },
  "nbformat": 4,
  "nbformat_minor": 0
}